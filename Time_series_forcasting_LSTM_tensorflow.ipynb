{
  "nbformat": 4,
  "nbformat_minor": 0,
  "metadata": {
    "colab": {
      "name": "Time_series_forcasting_LSTM_tensorflow.ipynb",
      "version": "0.3.2",
      "provenance": []
    },
    "kernelspec": {
      "name": "python3",
      "display_name": "Python 3"
    },
    "accelerator": "GPU"
  },
  "cells": [
    {
      "metadata": {
        "id": "4lqCFXoL1C8d",
        "colab_type": "code",
        "colab": {
          "base_uri": "https://localhost:8080/",
          "height": 118
        },
        "outputId": "ef5df3eb-ac57-4a16-9fd9-18d032bba007"
      },
      "cell_type": "code",
      "source": [
        "!git clone https://github.com/shubhamdmce/Time_series_forcasting_LSTM_tensorflow.git"
      ],
      "execution_count": 1,
      "outputs": [
        {
          "output_type": "stream",
          "text": [
            "Cloning into 'Time_series_forcasting_LSTM_tensorflow'...\n",
            "remote: Enumerating objects: 12, done.\u001b[K\n",
            "remote: Counting objects: 100% (12/12), done.\u001b[K\n",
            "remote: Compressing objects: 100% (12/12), done.\u001b[K\n",
            "remote: Total 12 (delta 1), reused 0 (delta 0), pack-reused 0\u001b[K\n",
            "Unpacking objects: 100% (12/12), done.\n"
          ],
          "name": "stdout"
        }
      ]
    },
    {
      "metadata": {
        "id": "qwGEHw_m1MDp",
        "colab_type": "code",
        "colab": {
          "base_uri": "https://localhost:8080/",
          "height": 34
        },
        "outputId": "c36dad44-dd1c-4142-e012-677cd7f0fe60"
      },
      "cell_type": "code",
      "source": [
        "cd Time_series_forcasting_LSTM_tensorflow/"
      ],
      "execution_count": 5,
      "outputs": [
        {
          "output_type": "stream",
          "text": [
            "/content/Time_series_forcasting_LSTM_tensorflow\n"
          ],
          "name": "stdout"
        }
      ]
    },
    {
      "metadata": {
        "id": "Pe15LnOQ5Nn3",
        "colab_type": "code",
        "colab": {
          "base_uri": "https://localhost:8080/",
          "height": 776
        },
        "outputId": "d88cf666-8c9e-495b-eeb9-a1fc0c4292b2"
      },
      "cell_type": "code",
      "source": [
        "!python3 train_predict.py ./data/sales.csv ./training_config.json\n"
      ],
      "execution_count": 7,
      "outputs": [
        {
          "output_type": "stream",
          "text": [
            "Using TensorFlow backend.\n",
            "/content/Time_series_forcasting_LSTM_tensorflow/build_model.py:10: UserWarning: Update your `LSTM` call to the Keras 2 API: `LSTM(input_shape=(6, 1), return_sequences=True, units=6)`\n",
            "  model.add(LSTM(input_shape=(layers[1], layers[0]), output_dim=layers[1], return_sequences=True))\n",
            "WARNING:tensorflow:From /usr/local/lib/python3.6/dist-packages/tensorflow/python/framework/op_def_library.py:263: colocate_with (from tensorflow.python.framework.ops) is deprecated and will be removed in a future version.\n",
            "Instructions for updating:\n",
            "Colocations handled automatically by placer.\n",
            "WARNING:tensorflow:From /usr/local/lib/python3.6/dist-packages/keras/backend/tensorflow_backend.py:3445: calling dropout (from tensorflow.python.ops.nn_ops) with keep_prob is deprecated and will be removed in a future version.\n",
            "Instructions for updating:\n",
            "Please use `rate` instead of `keep_prob`. Rate should be set to `rate = 1 - keep_prob`.\n",
            "/content/Time_series_forcasting_LSTM_tensorflow/build_model.py:14: UserWarning: Update your `Dense` call to the Keras 2 API: `Dense(units=1)`\n",
            "  model.add(Dense(output_dim=layers[3]))\n",
            "WARNING:tensorflow:From /usr/local/lib/python3.6/dist-packages/tensorflow/python/ops/math_ops.py:3066: to_int32 (from tensorflow.python.ops.math_ops) is deprecated and will be removed in a future version.\n",
            "Instructions for updating:\n",
            "Use tf.cast instead.\n",
            "Train on 20 samples, validate on 3 samples\n",
            "Epoch 1/5\n",
            "2019-03-25 12:51:03.756238: I tensorflow/core/platform/profile_utils/cpu_utils.cc:94] CPU Frequency: 2300000000 Hz\n",
            "2019-03-25 12:51:03.756695: I tensorflow/compiler/xla/service/service.cc:150] XLA service 0x2357340 executing computations on platform Host. Devices:\n",
            "2019-03-25 12:51:03.756750: I tensorflow/compiler/xla/service/service.cc:158]   StreamExecutor device (0): <undefined>, <undefined>\n",
            "2019-03-25 12:51:03.940868: I tensorflow/stream_executor/cuda/cuda_gpu_executor.cc:998] successful NUMA node read from SysFS had negative value (-1), but there must be at least one NUMA node, so returning NUMA node zero\n",
            "2019-03-25 12:51:03.941474: I tensorflow/compiler/xla/service/service.cc:150] XLA service 0x2358100 executing computations on platform CUDA. Devices:\n",
            "2019-03-25 12:51:03.941513: I tensorflow/compiler/xla/service/service.cc:158]   StreamExecutor device (0): Tesla K80, Compute Capability 3.7\n",
            "2019-03-25 12:51:03.941917: I tensorflow/core/common_runtime/gpu/gpu_device.cc:1433] Found device 0 with properties: \n",
            "name: Tesla K80 major: 3 minor: 7 memoryClockRate(GHz): 0.8235\n",
            "pciBusID: 0000:00:04.0\n",
            "totalMemory: 11.17GiB freeMemory: 11.10GiB\n",
            "2019-03-25 12:51:03.941951: I tensorflow/core/common_runtime/gpu/gpu_device.cc:1512] Adding visible gpu devices: 0\n",
            "2019-03-25 12:51:05.385923: I tensorflow/core/common_runtime/gpu/gpu_device.cc:984] Device interconnect StreamExecutor with strength 1 edge matrix:\n",
            "2019-03-25 12:51:05.385998: I tensorflow/core/common_runtime/gpu/gpu_device.cc:990]      0 \n",
            "2019-03-25 12:51:05.386031: I tensorflow/core/common_runtime/gpu/gpu_device.cc:1003] 0:   N \n",
            "2019-03-25 12:51:05.386333: W tensorflow/core/common_runtime/gpu/gpu_bfc_allocator.cc:42] Overriding allow_growth setting because the TF_FORCE_GPU_ALLOW_GROWTH environment variable is set. Original config value was 0.\n",
            "2019-03-25 12:51:05.386442: I tensorflow/core/common_runtime/gpu/gpu_device.cc:1115] Created TensorFlow device (/job:localhost/replica:0/task:0/device:GPU:0 with 10754 MB memory) -> physical GPU (device: 0, name: Tesla K80, pci bus id: 0000:00:04.0, compute capability: 3.7)\n",
            "2019-03-25 12:51:06.389140: I tensorflow/stream_executor/dso_loader.cc:152] successfully opened CUDA library libcublas.so.10.0 locally\n",
            "20/20 [==============================] - 4s 194ms/step - loss: 0.1297 - val_loss: 0.3899\n",
            "Epoch 2/5\n",
            "20/20 [==============================] - 0s 15ms/step - loss: 0.1097 - val_loss: 0.3340\n",
            "Epoch 3/5\n",
            "20/20 [==============================] - 0s 15ms/step - loss: 0.1003 - val_loss: 0.2533\n",
            "Epoch 4/5\n",
            "20/20 [==============================] - 0s 15ms/step - loss: 0.0961 - val_loss: 0.2072\n",
            "Epoch 5/5\n",
            "20/20 [==============================] - 0s 15ms/step - loss: 0.0894 - val_loss: 0.1787\n",
            "<Figure size 640x480 with 1 Axes>\n",
            "The next time stamp forecasting is: 665.6640847623348\n"
          ],
          "name": "stdout"
        }
      ]
    },
    {
      "metadata": {
        "id": "GLH5v94F5X1N",
        "colab_type": "code",
        "colab": {
          "base_uri": "https://localhost:8080/",
          "height": 776
        },
        "outputId": "1f7c9170-702f-47e7-976e-d1ab8aa30fce"
      },
      "cell_type": "code",
      "source": [
        "!python3 train_predict.py ./data/daily-minimum-temperatures-in-me.csv ./training_config.json"
      ],
      "execution_count": 8,
      "outputs": [
        {
          "output_type": "stream",
          "text": [
            "Using TensorFlow backend.\n",
            "/content/Time_series_forcasting_LSTM_tensorflow/build_model.py:10: UserWarning: Update your `LSTM` call to the Keras 2 API: `LSTM(input_shape=(6, 1), return_sequences=True, units=6)`\n",
            "  model.add(LSTM(input_shape=(layers[1], layers[0]), output_dim=layers[1], return_sequences=True))\n",
            "WARNING:tensorflow:From /usr/local/lib/python3.6/dist-packages/tensorflow/python/framework/op_def_library.py:263: colocate_with (from tensorflow.python.framework.ops) is deprecated and will be removed in a future version.\n",
            "Instructions for updating:\n",
            "Colocations handled automatically by placer.\n",
            "WARNING:tensorflow:From /usr/local/lib/python3.6/dist-packages/keras/backend/tensorflow_backend.py:3445: calling dropout (from tensorflow.python.ops.nn_ops) with keep_prob is deprecated and will be removed in a future version.\n",
            "Instructions for updating:\n",
            "Please use `rate` instead of `keep_prob`. Rate should be set to `rate = 1 - keep_prob`.\n",
            "/content/Time_series_forcasting_LSTM_tensorflow/build_model.py:14: UserWarning: Update your `Dense` call to the Keras 2 API: `Dense(units=1)`\n",
            "  model.add(Dense(output_dim=layers[3]))\n",
            "WARNING:tensorflow:From /usr/local/lib/python3.6/dist-packages/tensorflow/python/ops/math_ops.py:3066: to_int32 (from tensorflow.python.ops.math_ops) is deprecated and will be removed in a future version.\n",
            "Instructions for updating:\n",
            "Use tf.cast instead.\n",
            "Train on 2622 samples, validate on 292 samples\n",
            "Epoch 1/5\n",
            "2019-03-25 13:09:07.381863: I tensorflow/core/platform/profile_utils/cpu_utils.cc:94] CPU Frequency: 2300000000 Hz\n",
            "2019-03-25 13:09:07.382289: I tensorflow/compiler/xla/service/service.cc:150] XLA service 0x271bfa0 executing computations on platform Host. Devices:\n",
            "2019-03-25 13:09:07.382327: I tensorflow/compiler/xla/service/service.cc:158]   StreamExecutor device (0): <undefined>, <undefined>\n",
            "2019-03-25 13:09:07.481682: I tensorflow/stream_executor/cuda/cuda_gpu_executor.cc:998] successful NUMA node read from SysFS had negative value (-1), but there must be at least one NUMA node, so returning NUMA node zero\n",
            "2019-03-25 13:09:07.482293: I tensorflow/compiler/xla/service/service.cc:150] XLA service 0x271b8c0 executing computations on platform CUDA. Devices:\n",
            "2019-03-25 13:09:07.482344: I tensorflow/compiler/xla/service/service.cc:158]   StreamExecutor device (0): Tesla K80, Compute Capability 3.7\n",
            "2019-03-25 13:09:07.482734: I tensorflow/core/common_runtime/gpu/gpu_device.cc:1433] Found device 0 with properties: \n",
            "name: Tesla K80 major: 3 minor: 7 memoryClockRate(GHz): 0.8235\n",
            "pciBusID: 0000:00:04.0\n",
            "totalMemory: 11.17GiB freeMemory: 11.10GiB\n",
            "2019-03-25 13:09:07.482796: I tensorflow/core/common_runtime/gpu/gpu_device.cc:1512] Adding visible gpu devices: 0\n",
            "2019-03-25 13:09:07.871462: I tensorflow/core/common_runtime/gpu/gpu_device.cc:984] Device interconnect StreamExecutor with strength 1 edge matrix:\n",
            "2019-03-25 13:09:07.871545: I tensorflow/core/common_runtime/gpu/gpu_device.cc:990]      0 \n",
            "2019-03-25 13:09:07.871564: I tensorflow/core/common_runtime/gpu/gpu_device.cc:1003] 0:   N \n",
            "2019-03-25 13:09:07.871846: W tensorflow/core/common_runtime/gpu/gpu_bfc_allocator.cc:42] Overriding allow_growth setting because the TF_FORCE_GPU_ALLOW_GROWTH environment variable is set. Original config value was 0.\n",
            "2019-03-25 13:09:07.871910: I tensorflow/core/common_runtime/gpu/gpu_device.cc:1115] Created TensorFlow device (/job:localhost/replica:0/task:0/device:GPU:0 with 10754 MB memory) -> physical GPU (device: 0, name: Tesla K80, pci bus id: 0000:00:04.0, compute capability: 3.7)\n",
            "2019-03-25 13:09:08.875057: I tensorflow/stream_executor/dso_loader.cc:152] successfully opened CUDA library libcublas.so.10.0 locally\n",
            "2622/2622 [==============================] - 42s 16ms/step - loss: 2.6592 - val_loss: 12.9135\n",
            "Epoch 2/5\n",
            "2622/2622 [==============================] - 41s 16ms/step - loss: 2.6282 - val_loss: 12.8348\n",
            "Epoch 3/5\n",
            "2622/2622 [==============================] - 41s 15ms/step - loss: 2.5970 - val_loss: 12.8305\n",
            "Epoch 4/5\n",
            "2622/2622 [==============================] - 41s 15ms/step - loss: 2.5923 - val_loss: 12.7152\n",
            "Epoch 5/5\n",
            "2622/2622 [==============================] - 41s 15ms/step - loss: 2.5653 - val_loss: 12.6036\n",
            "<Figure size 640x480 with 1 Axes>\n",
            "The next time stamp forecasting is: 13.259218904376029\n"
          ],
          "name": "stdout"
        }
      ]
    },
    {
      "metadata": {
        "id": "8N_A17d_9_Pm",
        "colab_type": "code",
        "colab": {}
      },
      "cell_type": "code",
      "source": [
        ""
      ],
      "execution_count": 0,
      "outputs": []
    }
  ]
}