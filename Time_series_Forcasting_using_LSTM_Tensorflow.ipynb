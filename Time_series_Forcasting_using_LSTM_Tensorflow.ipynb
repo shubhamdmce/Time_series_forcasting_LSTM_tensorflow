{
  "nbformat": 4,
  "nbformat_minor": 0,
  "metadata": {
    "colab": {
      "name": "Time series Forcasting using LSTM Tensorflow.ipynb",
      "version": "0.3.2",
      "provenance": [],
      "collapsed_sections": []
    },
    "kernelspec": {
      "name": "python3",
      "display_name": "Python 3"
    },
    "accelerator": "GPU"
  },
  "cells": [
    {
      "metadata": {
        "id": "2wXKUoony_o1",
        "colab_type": "code",
        "colab": {
          "base_uri": "https://localhost:8080/",
          "height": 84
        },
        "outputId": "8b342936-5ce5-48ae-fe6d-599b89fcc0b8"
      },
      "cell_type": "code",
      "source": [
        "!git clone https://github.com/jiegzhan/time-series-forecasting-rnn-tensorflow.git"
      ],
      "execution_count": 3,
      "outputs": [
        {
          "output_type": "stream",
          "text": [
            "Cloning into 'time-series-forecasting-rnn-tensorflow'...\n",
            "remote: Enumerating objects: 78, done.\u001b[K\n",
            "remote: Total 78 (delta 0), reused 0 (delta 0), pack-reused 78\u001b[K\n",
            "Unpacking objects: 100% (78/78), done.\n"
          ],
          "name": "stdout"
        }
      ]
    },
    {
      "metadata": {
        "id": "xdRrJFiizPRJ",
        "colab_type": "code",
        "colab": {
          "base_uri": "https://localhost:8080/",
          "height": 34
        },
        "outputId": "9e4c4a7e-c052-443d-fd30-e8c1bfd56965"
      },
      "cell_type": "code",
      "source": [
        "!ls"
      ],
      "execution_count": 4,
      "outputs": [
        {
          "output_type": "stream",
          "text": [
            "sample_data  time-series-forecasting-rnn-tensorflow\n"
          ],
          "name": "stdout"
        }
      ]
    },
    {
      "metadata": {
        "id": "qsD348EHzXas",
        "colab_type": "code",
        "colab": {
          "base_uri": "https://localhost:8080/",
          "height": 34
        },
        "outputId": "bb680031-289f-4686-e3a6-ea01d637afbc"
      },
      "cell_type": "code",
      "source": [
        "cd time-series-forecasting-rnn-tensorflow/"
      ],
      "execution_count": 5,
      "outputs": [
        {
          "output_type": "stream",
          "text": [
            "/content/time-series-forecasting-rnn-tensorflow\n"
          ],
          "name": "stdout"
        }
      ]
    },
    {
      "metadata": {
        "id": "vOB1izgnzup8",
        "colab_type": "code",
        "colab": {
          "base_uri": "https://localhost:8080/",
          "height": 50
        },
        "outputId": "005e6aaa-856d-4d21-a66c-0072529dc899"
      },
      "cell_type": "code",
      "source": [
        "!ls"
      ],
      "execution_count": 6,
      "outputs": [
        {
          "output_type": "stream",
          "text": [
            "build_model.py\tdata_helper.py\tREADME.md\t      train_predict.py\n",
            "data\t\tLICENSE\t\ttraining_config.json\n"
          ],
          "name": "stdout"
        }
      ]
    },
    {
      "metadata": {
        "id": "YkH5oEMhzxc8",
        "colab_type": "code",
        "colab": {
          "base_uri": "https://localhost:8080/",
          "height": 134
        },
        "outputId": "823cf1b1-90dd-47ac-d429-fbdfc17df20f"
      },
      "cell_type": "code",
      "source": [
        "!python train_predict.py"
      ],
      "execution_count": 7,
      "outputs": [
        {
          "output_type": "stream",
          "text": [
            "Using TensorFlow backend.\n",
            "Traceback (most recent call last):\n",
            "  File \"train_predict.py\", line 55, in <module>\n",
            "    train_predict()\n",
            "  File \"train_predict.py\", line 13, in train_predict\n",
            "    train_file = sys.argv[1]\n",
            "IndexError: list index out of range\n"
          ],
          "name": "stdout"
        }
      ]
    },
    {
      "metadata": {
        "id": "t7OLRXDXz9L3",
        "colab_type": "code",
        "colab": {
          "base_uri": "https://localhost:8080/",
          "height": 3968
        },
        "outputId": "0ed42ec0-0383-460f-c972-a884ddf7a99b"
      },
      "cell_type": "code",
      "source": [
        "!python3 train_predict.py ./data/sales.csv ./training_config.json"
      ],
      "execution_count": 8,
      "outputs": [
        {
          "output_type": "stream",
          "text": [
            "Using TensorFlow backend.\n",
            "/content/time-series-forecasting-rnn-tensorflow/build_model.py:10: UserWarning: Update your `LSTM` call to the Keras 2 API: `LSTM(input_shape=(6, 1), return_sequences=True, units=6)`\n",
            "  model.add(LSTM(input_shape=(layers[1], layers[0]), output_dim=layers[1], return_sequences=True))\n",
            "WARNING:tensorflow:From /usr/local/lib/python3.6/dist-packages/tensorflow/python/framework/op_def_library.py:263: colocate_with (from tensorflow.python.framework.ops) is deprecated and will be removed in a future version.\n",
            "Instructions for updating:\n",
            "Colocations handled automatically by placer.\n",
            "WARNING:tensorflow:From /usr/local/lib/python3.6/dist-packages/keras/backend/tensorflow_backend.py:3445: calling dropout (from tensorflow.python.ops.nn_ops) with keep_prob is deprecated and will be removed in a future version.\n",
            "Instructions for updating:\n",
            "Please use `rate` instead of `keep_prob`. Rate should be set to `rate = 1 - keep_prob`.\n",
            "/content/time-series-forecasting-rnn-tensorflow/build_model.py:14: UserWarning: Update your `Dense` call to the Keras 2 API: `Dense(units=1)`\n",
            "  model.add(Dense(output_dim=layers[3]))\n",
            "WARNING:tensorflow:From /usr/local/lib/python3.6/dist-packages/tensorflow/python/ops/math_ops.py:3066: to_int32 (from tensorflow.python.ops.math_ops) is deprecated and will be removed in a future version.\n",
            "Instructions for updating:\n",
            "Use tf.cast instead.\n",
            "Train on 20 samples, validate on 3 samples\n",
            "Epoch 1/100\n",
            "2019-03-24 13:16:42.292086: I tensorflow/core/platform/profile_utils/cpu_utils.cc:94] CPU Frequency: 2200000000 Hz\n",
            "2019-03-24 13:16:42.292521: I tensorflow/compiler/xla/service/service.cc:150] XLA service 0x2e45340 executing computations on platform Host. Devices:\n",
            "2019-03-24 13:16:42.292573: I tensorflow/compiler/xla/service/service.cc:158]   StreamExecutor device (0): <undefined>, <undefined>\n",
            "2019-03-24 13:16:42.465690: I tensorflow/stream_executor/cuda/cuda_gpu_executor.cc:998] successful NUMA node read from SysFS had negative value (-1), but there must be at least one NUMA node, so returning NUMA node zero\n",
            "2019-03-24 13:16:42.466358: I tensorflow/compiler/xla/service/service.cc:150] XLA service 0x2e46100 executing computations on platform CUDA. Devices:\n",
            "2019-03-24 13:16:42.466399: I tensorflow/compiler/xla/service/service.cc:158]   StreamExecutor device (0): Tesla K80, Compute Capability 3.7\n",
            "2019-03-24 13:16:42.466792: I tensorflow/core/common_runtime/gpu/gpu_device.cc:1433] Found device 0 with properties: \n",
            "name: Tesla K80 major: 3 minor: 7 memoryClockRate(GHz): 0.8235\n",
            "pciBusID: 0000:00:04.0\n",
            "totalMemory: 11.17GiB freeMemory: 11.10GiB\n",
            "2019-03-24 13:16:42.466825: I tensorflow/core/common_runtime/gpu/gpu_device.cc:1512] Adding visible gpu devices: 0\n",
            "2019-03-24 13:16:43.837918: I tensorflow/core/common_runtime/gpu/gpu_device.cc:984] Device interconnect StreamExecutor with strength 1 edge matrix:\n",
            "2019-03-24 13:16:43.837979: I tensorflow/core/common_runtime/gpu/gpu_device.cc:990]      0 \n",
            "2019-03-24 13:16:43.838041: I tensorflow/core/common_runtime/gpu/gpu_device.cc:1003] 0:   N \n",
            "2019-03-24 13:16:43.838432: W tensorflow/core/common_runtime/gpu/gpu_bfc_allocator.cc:42] Overriding allow_growth setting because the TF_FORCE_GPU_ALLOW_GROWTH environment variable is set. Original config value was 0.\n",
            "2019-03-24 13:16:43.838572: I tensorflow/core/common_runtime/gpu/gpu_device.cc:1115] Created TensorFlow device (/job:localhost/replica:0/task:0/device:GPU:0 with 10754 MB memory) -> physical GPU (device: 0, name: Tesla K80, pci bus id: 0000:00:04.0, compute capability: 3.7)\n",
            "2019-03-24 13:16:44.861123: I tensorflow/stream_executor/dso_loader.cc:152] successfully opened CUDA library libcublas.so.10.0 locally\n",
            "20/20 [==============================] - 4s 188ms/step - loss: 0.1373 - val_loss: 0.2910\n",
            "Epoch 2/100\n",
            "20/20 [==============================] - 0s 15ms/step - loss: 0.1153 - val_loss: 0.2505\n",
            "Epoch 3/100\n",
            "20/20 [==============================] - 0s 15ms/step - loss: 0.1071 - val_loss: 0.2227\n",
            "Epoch 4/100\n",
            "20/20 [==============================] - 0s 15ms/step - loss: 0.1010 - val_loss: 0.1830\n",
            "Epoch 5/100\n",
            "20/20 [==============================] - 0s 15ms/step - loss: 0.1021 - val_loss: 0.1846\n",
            "Epoch 6/100\n",
            "20/20 [==============================] - 0s 16ms/step - loss: 0.0954 - val_loss: 0.1775\n",
            "Epoch 7/100\n",
            "20/20 [==============================] - 0s 16ms/step - loss: 0.0860 - val_loss: 0.1486\n",
            "Epoch 8/100\n",
            "20/20 [==============================] - 0s 15ms/step - loss: 0.0891 - val_loss: 0.1320\n",
            "Epoch 9/100\n",
            "20/20 [==============================] - 0s 16ms/step - loss: 0.0979 - val_loss: 0.1338\n",
            "Epoch 10/100\n",
            "20/20 [==============================] - 0s 15ms/step - loss: 0.0908 - val_loss: 0.1288\n",
            "Epoch 11/100\n",
            "20/20 [==============================] - 0s 15ms/step - loss: 0.0965 - val_loss: 0.1374\n",
            "Epoch 12/100\n",
            "20/20 [==============================] - 0s 16ms/step - loss: 0.0912 - val_loss: 0.1520\n",
            "Epoch 13/100\n",
            "20/20 [==============================] - 0s 15ms/step - loss: 0.1070 - val_loss: 0.1349\n",
            "Epoch 14/100\n",
            "20/20 [==============================] - 0s 15ms/step - loss: 0.1007 - val_loss: 0.1352\n",
            "Epoch 15/100\n",
            "20/20 [==============================] - 0s 15ms/step - loss: 0.0918 - val_loss: 0.1577\n",
            "Epoch 16/100\n",
            "20/20 [==============================] - 0s 15ms/step - loss: 0.0972 - val_loss: 0.1495\n",
            "Epoch 17/100\n",
            "20/20 [==============================] - 0s 15ms/step - loss: 0.0934 - val_loss: 0.1375\n",
            "Epoch 18/100\n",
            "20/20 [==============================] - 0s 15ms/step - loss: 0.0855 - val_loss: 0.1305\n",
            "Epoch 19/100\n",
            "20/20 [==============================] - 0s 15ms/step - loss: 0.1020 - val_loss: 0.1355\n",
            "Epoch 20/100\n",
            "20/20 [==============================] - 0s 15ms/step - loss: 0.0911 - val_loss: 0.1593\n",
            "Epoch 21/100\n",
            "20/20 [==============================] - 0s 15ms/step - loss: 0.0916 - val_loss: 0.1473\n",
            "Epoch 22/100\n",
            "20/20 [==============================] - 0s 15ms/step - loss: 0.0889 - val_loss: 0.1522\n",
            "Epoch 23/100\n",
            "20/20 [==============================] - 0s 15ms/step - loss: 0.0930 - val_loss: 0.1657\n",
            "Epoch 24/100\n",
            "20/20 [==============================] - 0s 15ms/step - loss: 0.0926 - val_loss: 0.1628\n",
            "Epoch 25/100\n",
            "20/20 [==============================] - 0s 15ms/step - loss: 0.0900 - val_loss: 0.1387\n",
            "Epoch 26/100\n",
            "20/20 [==============================] - 0s 15ms/step - loss: 0.0881 - val_loss: 0.1455\n",
            "Epoch 27/100\n",
            "20/20 [==============================] - 0s 15ms/step - loss: 0.0859 - val_loss: 0.1433\n",
            "Epoch 28/100\n",
            "20/20 [==============================] - 0s 15ms/step - loss: 0.0939 - val_loss: 0.1586\n",
            "Epoch 29/100\n",
            "20/20 [==============================] - 0s 16ms/step - loss: 0.0850 - val_loss: 0.1470\n",
            "Epoch 30/100\n",
            "20/20 [==============================] - 0s 15ms/step - loss: 0.0872 - val_loss: 0.1457\n",
            "Epoch 31/100\n",
            "20/20 [==============================] - 0s 15ms/step - loss: 0.0851 - val_loss: 0.1470\n",
            "Epoch 32/100\n",
            "20/20 [==============================] - 0s 16ms/step - loss: 0.0936 - val_loss: 0.1522\n",
            "Epoch 33/100\n",
            "20/20 [==============================] - 0s 15ms/step - loss: 0.0963 - val_loss: 0.1603\n",
            "Epoch 34/100\n",
            "20/20 [==============================] - 0s 15ms/step - loss: 0.0954 - val_loss: 0.1603\n",
            "Epoch 35/100\n",
            "20/20 [==============================] - 0s 15ms/step - loss: 0.0967 - val_loss: 0.1593\n",
            "Epoch 36/100\n",
            "20/20 [==============================] - 0s 15ms/step - loss: 0.0756 - val_loss: 0.1563\n",
            "Epoch 37/100\n",
            "20/20 [==============================] - 0s 15ms/step - loss: 0.0917 - val_loss: 0.1663\n",
            "Epoch 38/100\n",
            "20/20 [==============================] - 0s 15ms/step - loss: 0.0903 - val_loss: 0.1481\n",
            "Epoch 39/100\n",
            "20/20 [==============================] - 0s 15ms/step - loss: 0.0872 - val_loss: 0.1419\n",
            "Epoch 40/100\n",
            "20/20 [==============================] - 0s 15ms/step - loss: 0.0930 - val_loss: 0.1427\n",
            "Epoch 41/100\n",
            "20/20 [==============================] - 0s 15ms/step - loss: 0.0951 - val_loss: 0.1568\n",
            "Epoch 42/100\n",
            "20/20 [==============================] - 0s 15ms/step - loss: 0.0888 - val_loss: 0.1497\n",
            "Epoch 43/100\n",
            "20/20 [==============================] - 0s 15ms/step - loss: 0.0866 - val_loss: 0.1501\n",
            "Epoch 44/100\n",
            "20/20 [==============================] - 0s 19ms/step - loss: 0.0864 - val_loss: 0.1581\n",
            "Epoch 45/100\n",
            "20/20 [==============================] - 0s 15ms/step - loss: 0.0932 - val_loss: 0.1613\n",
            "Epoch 46/100\n",
            "20/20 [==============================] - 0s 15ms/step - loss: 0.0915 - val_loss: 0.1689\n",
            "Epoch 47/100\n",
            "20/20 [==============================] - 0s 15ms/step - loss: 0.0856 - val_loss: 0.1592\n",
            "Epoch 48/100\n",
            "20/20 [==============================] - 0s 15ms/step - loss: 0.0895 - val_loss: 0.1516\n",
            "Epoch 49/100\n",
            "20/20 [==============================] - 0s 15ms/step - loss: 0.0820 - val_loss: 0.1555\n",
            "Epoch 50/100\n",
            "20/20 [==============================] - 0s 15ms/step - loss: 0.0831 - val_loss: 0.1587\n",
            "Epoch 51/100\n",
            "20/20 [==============================] - 0s 15ms/step - loss: 0.0892 - val_loss: 0.1732\n",
            "Epoch 52/100\n",
            "20/20 [==============================] - 0s 15ms/step - loss: 0.0852 - val_loss: 0.1631\n",
            "Epoch 53/100\n",
            "20/20 [==============================] - 0s 15ms/step - loss: 0.0932 - val_loss: 0.1712\n",
            "Epoch 54/100\n",
            "20/20 [==============================] - 0s 15ms/step - loss: 0.0783 - val_loss: 0.1686\n",
            "Epoch 55/100\n",
            "20/20 [==============================] - 0s 15ms/step - loss: 0.0943 - val_loss: 0.1709\n",
            "Epoch 56/100\n",
            "20/20 [==============================] - 0s 15ms/step - loss: 0.0879 - val_loss: 0.1605\n",
            "Epoch 57/100\n",
            "20/20 [==============================] - 0s 15ms/step - loss: 0.0876 - val_loss: 0.1644\n",
            "Epoch 58/100\n",
            "20/20 [==============================] - 0s 15ms/step - loss: 0.0820 - val_loss: 0.1724\n",
            "Epoch 59/100\n",
            "20/20 [==============================] - 0s 16ms/step - loss: 0.0846 - val_loss: 0.1708\n",
            "Epoch 60/100\n",
            "20/20 [==============================] - 0s 15ms/step - loss: 0.0857 - val_loss: 0.1678\n",
            "Epoch 61/100\n",
            "20/20 [==============================] - 0s 15ms/step - loss: 0.0859 - val_loss: 0.1695\n",
            "Epoch 62/100\n",
            "20/20 [==============================] - 0s 15ms/step - loss: 0.0869 - val_loss: 0.1765\n",
            "Epoch 63/100\n",
            "20/20 [==============================] - 0s 16ms/step - loss: 0.0846 - val_loss: 0.1687\n",
            "Epoch 64/100\n",
            "20/20 [==============================] - 0s 15ms/step - loss: 0.0846 - val_loss: 0.1774\n",
            "Epoch 65/100\n",
            "20/20 [==============================] - 0s 16ms/step - loss: 0.0927 - val_loss: 0.1807\n",
            "Epoch 66/100\n",
            "20/20 [==============================] - 0s 15ms/step - loss: 0.0857 - val_loss: 0.1774\n",
            "Epoch 67/100\n",
            "20/20 [==============================] - 0s 15ms/step - loss: 0.0855 - val_loss: 0.1765\n",
            "Epoch 68/100\n",
            "20/20 [==============================] - 0s 15ms/step - loss: 0.0939 - val_loss: 0.1786\n",
            "Epoch 69/100\n",
            "20/20 [==============================] - 0s 16ms/step - loss: 0.0846 - val_loss: 0.1778\n",
            "Epoch 70/100\n",
            "20/20 [==============================] - 0s 15ms/step - loss: 0.0897 - val_loss: 0.1752\n",
            "Epoch 71/100\n",
            "20/20 [==============================] - 0s 15ms/step - loss: 0.0803 - val_loss: 0.1743\n",
            "Epoch 72/100\n",
            "20/20 [==============================] - 0s 15ms/step - loss: 0.0940 - val_loss: 0.1782\n",
            "Epoch 73/100\n",
            "20/20 [==============================] - 0s 16ms/step - loss: 0.0865 - val_loss: 0.1765\n",
            "Epoch 74/100\n",
            "20/20 [==============================] - 0s 15ms/step - loss: 0.0858 - val_loss: 0.1770\n",
            "Epoch 75/100\n",
            "20/20 [==============================] - 0s 15ms/step - loss: 0.0850 - val_loss: 0.1751\n",
            "Epoch 76/100\n",
            "20/20 [==============================] - 0s 16ms/step - loss: 0.0826 - val_loss: 0.1846\n",
            "Epoch 77/100\n",
            "20/20 [==============================] - 0s 16ms/step - loss: 0.0811 - val_loss: 0.1822\n",
            "Epoch 78/100\n",
            "20/20 [==============================] - 0s 15ms/step - loss: 0.0797 - val_loss: 0.1936\n",
            "Epoch 79/100\n",
            "20/20 [==============================] - 0s 15ms/step - loss: 0.0856 - val_loss: 0.1872\n",
            "Epoch 80/100\n",
            "20/20 [==============================] - 0s 15ms/step - loss: 0.0852 - val_loss: 0.1805\n",
            "Epoch 81/100\n",
            "20/20 [==============================] - 0s 15ms/step - loss: 0.0897 - val_loss: 0.1873\n",
            "Epoch 82/100\n",
            "20/20 [==============================] - 0s 15ms/step - loss: 0.0882 - val_loss: 0.1927\n",
            "Epoch 83/100\n",
            "20/20 [==============================] - 0s 16ms/step - loss: 0.0898 - val_loss: 0.1819\n",
            "Epoch 84/100\n",
            "20/20 [==============================] - 0s 15ms/step - loss: 0.0873 - val_loss: 0.1840\n",
            "Epoch 85/100\n",
            "20/20 [==============================] - 0s 15ms/step - loss: 0.0850 - val_loss: 0.1828\n",
            "Epoch 86/100\n",
            "20/20 [==============================] - 0s 15ms/step - loss: 0.0806 - val_loss: 0.1823\n",
            "Epoch 87/100\n",
            "20/20 [==============================] - 0s 15ms/step - loss: 0.0938 - val_loss: 0.1875\n",
            "Epoch 88/100\n",
            "20/20 [==============================] - 0s 15ms/step - loss: 0.0944 - val_loss: 0.1823\n",
            "Epoch 89/100\n",
            "20/20 [==============================] - 0s 16ms/step - loss: 0.0841 - val_loss: 0.1854\n",
            "Epoch 90/100\n",
            "20/20 [==============================] - 0s 15ms/step - loss: 0.0850 - val_loss: 0.1825\n",
            "Epoch 91/100\n",
            "20/20 [==============================] - 0s 15ms/step - loss: 0.0806 - val_loss: 0.1807\n",
            "Epoch 92/100\n",
            "20/20 [==============================] - 0s 15ms/step - loss: 0.0918 - val_loss: 0.1853\n",
            "Epoch 93/100\n",
            "20/20 [==============================] - 0s 15ms/step - loss: 0.0934 - val_loss: 0.1912\n",
            "Epoch 94/100\n",
            "20/20 [==============================] - 0s 15ms/step - loss: 0.0871 - val_loss: 0.1867\n",
            "Epoch 95/100\n",
            "20/20 [==============================] - 0s 15ms/step - loss: 0.0858 - val_loss: 0.1936\n",
            "Epoch 96/100\n",
            "20/20 [==============================] - 0s 16ms/step - loss: 0.0862 - val_loss: 0.1848\n",
            "Epoch 97/100\n",
            "20/20 [==============================] - 0s 15ms/step - loss: 0.0887 - val_loss: 0.1911\n",
            "Epoch 98/100\n",
            "20/20 [==============================] - 0s 15ms/step - loss: 0.0870 - val_loss: 0.1953\n",
            "Epoch 99/100\n",
            "20/20 [==============================] - 0s 15ms/step - loss: 0.0867 - val_loss: 0.1887\n",
            "Epoch 100/100\n",
            "20/20 [==============================] - 0s 15ms/step - loss: 0.0912 - val_loss: 0.1949\n",
            "<Figure size 640x480 with 1 Axes>\n",
            "The next time stamp forecasting is: 689.4376281127334\n"
          ],
          "name": "stdout"
        }
      ]
    },
    {
      "metadata": {
        "id": "b1qaXqUH2IlU",
        "colab_type": "code",
        "colab": {
          "base_uri": "https://localhost:8080/",
          "height": 1112
        },
        "outputId": "3d0f9e6f-cd16-4a39-fd0a-6125aacac334"
      },
      "cell_type": "code",
      "source": [
        "!python3 train_predict.py ./data/daily-minimum-temperatures-in-me.csv ./training_config.json"
      ],
      "execution_count": 10,
      "outputs": [
        {
          "output_type": "stream",
          "text": [
            "Using TensorFlow backend.\n",
            "Traceback (most recent call last):\n",
            "  File \"train_predict.py\", line 3, in <module>\n",
            "    import build_model\n",
            "  File \"/content/time-series-forecasting-rnn-tensorflow/build_model.py\", line 2, in <module>\n",
            "    from keras.layers.core import Dense, Activation, Dropout\n",
            "  File \"/usr/local/lib/python3.6/dist-packages/keras/__init__.py\", line 3, in <module>\n",
            "  File \"/usr/local/lib/python3.6/dist-packages/keras/utils/__init__.py\", line 6, in <module>\n",
            "    from . import conv_utils\n",
            "  File \"/usr/local/lib/python3.6/dist-packages/keras/utils/conv_utils.py\", line 9, in <module>\n",
            "    from .. import backend as K\n",
            "  File \"/usr/local/lib/python3.6/dist-packages/keras/backend/__init__.py\", line 89, in <module>\n",
            "    from .tensorflow_backend import *\n",
            "  File \"/usr/local/lib/python3.6/dist-packages/keras/backend/tensorflow_backend.py\", line 5, in <module>\n",
            "    import tensorflow as tf\n",
            "  File \"/usr/local/lib/python3.6/dist-packages/tensorflow/__init__.py\", line 24, in <module>\n",
            "    from tensorflow.python import pywrap_tensorflow  # pylint: disable=unused-import\n",
            "  File \"/usr/local/lib/python3.6/dist-packages/tensorflow/python/__init__.py\", line 72, in <module>\n",
            "    from tensorflow.python.ops.standard_ops import *\n",
            "  File \"/usr/local/lib/python3.6/dist-packages/tensorflow/python/ops/standard_ops.py\", line 25, in <module>\n",
            "    from tensorflow.python import autograph\n",
            "  File \"/usr/local/lib/python3.6/dist-packages/tensorflow/python/autograph/__init__.py\", line 35, in <module>\n",
            "    from tensorflow.python.autograph import operators\n",
            "  File \"/usr/local/lib/python3.6/dist-packages/tensorflow/python/autograph/operators/__init__.py\", line 40, in <module>\n",
            "    from tensorflow.python.autograph.operators.control_flow import for_stmt\n",
            "  File \"/usr/local/lib/python3.6/dist-packages/tensorflow/python/autograph/operators/control_flow.py\", line 22, in <module>\n",
            "    from tensorflow.python.data.ops import dataset_ops\n",
            "  File \"/usr/local/lib/python3.6/dist-packages/tensorflow/python/data/__init__.py\", line 25, in <module>\n",
            "    from tensorflow.python.data import experimental\n",
            "  File \"/usr/local/lib/python3.6/dist-packages/tensorflow/python/data/experimental/__init__.py\", line 100, in <module>\n",
            "    from tensorflow.python.data.experimental.ops.iterator_ops import CheckpointInputPipelineHook\n",
            "  File \"/usr/local/lib/python3.6/dist-packages/tensorflow/python/data/experimental/ops/iterator_ops.py\", line 23, in <module>\n",
            "    from tensorflow.python.training import basic_session_run_hooks\n",
            "  File \"/usr/local/lib/python3.6/dist-packages/tensorflow/python/training/basic_session_run_hooks.py\", line 42, in <module>\n",
            "    from tensorflow.python.training.summary_io import SummaryWriterCache\n",
            "  File \"/usr/local/lib/python3.6/dist-packages/tensorflow/python/training/summary_io.py\", line 23, in <module>\n",
            "    from tensorflow.python.summary.writer.writer import FileWriter as _FileWriter\n",
            "  File \"/usr/local/lib/python3.6/dist-packages/tensorflow/python/summary/writer/writer.py\", line 36, in <module>\n",
            "    from tensorflow.python.summary.writer.event_file_writer_v2 import EventFileWriterV2\n",
            "  File \"/usr/local/lib/python3.6/dist-packages/tensorflow/python/summary/writer/event_file_writer_v2.py\", line 25, in <module>\n",
            "    from tensorflow.python.ops import summary_ops_v2\n",
            "  File \"/usr/local/lib/python3.6/dist-packages/tensorflow/python/ops/summary_ops_v2.py\", line 40, in <module>\n",
            "    from tensorflow.python.ops import summary_op_util\n",
            "  File \"/usr/local/lib/python3.6/dist-packages/tensorflow/python/ops/summary_op_util.py\", line 24, in <module>\n",
            "    from tensorflow.python.distribute import distribution_strategy_context\n",
            "  File \"/usr/local/lib/python3.6/dist-packages/tensorflow/python/distribute/__init__.py\", line 22, in <module>\n",
            "    from tensorflow.python.distribute import distribute_lib\n",
            "  File \"/usr/local/lib/python3.6/dist-packages/tensorflow/python/distribute/distribute_lib.py\", line 38, in <module>\n",
            "    from tensorflow.python.ops.losses import losses_impl\n",
            "  File \"/usr/local/lib/python3.6/dist-packages/tensorflow/python/ops/losses/losses_impl.py\", line 27, in <module>\n",
            "    from tensorflow.python.ops import nn\n",
            "  File \"/usr/local/lib/python3.6/dist-packages/tensorflow/python/ops/nn.py\", line 29, in <module>\n",
            "    from tensorflow.python.ops import embedding_ops as _embedding_ops\n",
            "  File \"/usr/local/lib/python3.6/dist-packages/tensorflow/python/ops/embedding_ops.py\", line 30, in <module>\n",
            "    from tensorflow.python.ops import data_flow_grad  # pylint: disable=unused-import\n",
            "  File \"/usr/local/lib/python3.6/dist-packages/tensorflow/python/ops/data_flow_grad.py\", line 83, in <module>\n",
            "    ops.NotDifferentiable(\"GetSessionTensor\")\n",
            "  File \"/usr/local/lib/python3.6/dist-packages/tensorflow/python/framework/ops.py\", line 2530, in no_gradient\n",
            "    _gradient_registry.register(None, op_type)\n",
            "  File \"/usr/local/lib/python3.6/dist-packages/tensorflow/python/framework/registry.py\", line 66, in register\n",
            "    stack = tf_stack.extract_stack()\n",
            "  File \"/usr/local/lib/python3.6/dist-packages/tensorflow/python/util/tf_stack.py\", line 63, in extract_stack\n",
            "    filename = co.co_filename\n",
            "KeyboardInterrupt\n"
          ],
          "name": "stdout"
        }
      ]
    },
    {
      "metadata": {
        "id": "Nik9AVTg2iBK",
        "colab_type": "code",
        "colab": {
          "base_uri": "https://localhost:8080/",
          "height": 941
        },
        "outputId": "6c248e1d-85d9-4c25-a6c2-79c1002ac3aa"
      },
      "cell_type": "code",
      "source": [
        "!cat train_predict.py"
      ],
      "execution_count": 13,
      "outputs": [
        {
          "output_type": "stream",
          "text": [
            "import sys\n",
            "import json\n",
            "import build_model\n",
            "import data_helper\n",
            "import numpy as np\n",
            "import pandas as pd\n",
            "import matplotlib.pyplot as plt\n",
            "\n",
            "def train_predict():\n",
            "\t\"\"\"Train and predict time series data\"\"\"\n",
            "\n",
            "\t# Load command line arguments \n",
            "\ttrain_file = sys.argv[1]\n",
            "\tparameter_file = sys.argv[2]\n",
            "\n",
            "\t# Load training parameters\n",
            "\tparams = json.loads(open(parameter_file).read())\n",
            "\n",
            "\t# Load time series dataset, and split it into train and test\n",
            "\tx_train, y_train, x_test, y_test, x_test_raw, y_test_raw,\\\n",
            "\t\tlast_window_raw, last_window = data_helper.load_timeseries(train_file, params)\n",
            "\n",
            "\t# Build RNN (LSTM) model\n",
            "\tlstm_layer = [1, params['window_size'], params['hidden_unit'], 1]\n",
            "\tmodel = build_model.rnn_lstm(lstm_layer, params)\n",
            "\n",
            "\t# Train RNN (LSTM) model with train set\n",
            "\tmodel.fit(\n",
            "\t\tx_train,\n",
            "\t\ty_train,\n",
            "\t\tbatch_size=params['batch_size'],\n",
            "\t\tepochs=params['epochs'],\n",
            "\t\tvalidation_split=params['validation_split'])\n",
            "\n",
            "\t# Check the model against test set\n",
            "\tpredicted = build_model.predict_next_timestamp(model, x_test)        \n",
            "\tpredicted_raw = []\n",
            "\tfor i in range(len(x_test_raw)):\n",
            "\t\tpredicted_raw.append((predicted[i] + 1) * x_test_raw[i][0])\n",
            "\n",
            "\t# Plot graph: predicted VS actual\n",
            "\tplt.subplot(111)\n",
            "\tplt.plot(predicted_raw, label='Actual')\n",
            "\tplt.plot(y_test_raw, label='Predicted')\t\n",
            "\tplt.legend()\n",
            "\tplt.show()\n",
            "\n",
            "\t# Predict next time stamp \n",
            "\tnext_timestamp = build_model.predict_next_timestamp(model, last_window)\n",
            "\tnext_timestamp_raw = (next_timestamp[0] + 1) * last_window_raw[0][0]\n",
            "\tprint('The next time stamp forecasting is: {}'.format(next_timestamp_raw))\n",
            "\n",
            "if __name__ == '__main__':\n",
            "\t# python3 train_predict.py ./data/sales.csv ./training_config.json_\n",
            "\ttrain_predict()\n"
          ],
          "name": "stdout"
        }
      ]
    },
    {
      "metadata": {
        "id": "-BL08Ar24Fs6",
        "colab_type": "code",
        "colab": {}
      },
      "cell_type": "code",
      "source": [
        ""
      ],
      "execution_count": 0,
      "outputs": []
    }
  ]
}